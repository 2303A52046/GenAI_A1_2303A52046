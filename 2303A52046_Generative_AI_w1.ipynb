{
  "nbformat": 4,
  "nbformat_minor": 0,
  "metadata": {
    "colab": {
      "provenance": [],
      "authorship_tag": "ABX9TyNwxRCSXSikCVI5zcrdx9wG",
      "include_colab_link": true
    },
    "kernelspec": {
      "name": "python3",
      "display_name": "Python 3"
    },
    "language_info": {
      "name": "python"
    }
  },
  "cells": [
    {
      "cell_type": "markdown",
      "metadata": {
        "id": "view-in-github",
        "colab_type": "text"
      },
      "source": [
        "<a href=\"https://colab.research.google.com/github/2303A52046/GenAI_A1_2303A52046/blob/main/2303A52046_Generative_AI_w1.ipynb\" target=\"_parent\"><img src=\"https://colab.research.google.com/assets/colab-badge.svg\" alt=\"Open In Colab\"/></a>"
      ]
    },
    {
      "cell_type": "code",
      "execution_count": 1,
      "metadata": {
        "colab": {
          "base_uri": "https://localhost:8080/",
          "height": 0
        },
        "id": "iAeY5PE7WpzY",
        "outputId": "c23f42ef-2948-4ffe-9cbc-6cd531dc6d9a"
      },
      "outputs": [
        {
          "output_type": "stream",
          "name": "stdout",
          "text": [
            "Optimal Production Plan:\n",
            "Product A units: 2\n",
            "Product B units: 3\n",
            "Maximum Profit: Rs 27\n"
          ]
        }
      ],
      "source": [
        "milk_limit = 5\n",
        "chocolate_limit = 12\n",
        "\n",
        "\n",
        "profit_A = 6\n",
        "profit_B = 5\n",
        "\n",
        "\n",
        "max_profit = 0\n",
        "optimal_A = 0\n",
        "optimal_B = 0\n",
        "\n",
        "\n",
        "for product_A in range(milk_limit + 1):\n",
        "\n",
        "    for product_B in range(milk_limit + 1 - product_A):\n",
        "\n",
        "        if (3 * product_A + 2 * product_B) <= chocolate_limit:\n",
        "\n",
        "            profit = (profit_A * product_A) + (profit_B * product_B)\n",
        "\n",
        "            if profit > max_profit:\n",
        "                max_profit = profit\n",
        "                optimal_A = product_A\n",
        "                optimal_B = product_B\n",
        "\n",
        "\n",
        "print(\"Optimal Production Plan:\")\n",
        "print(f\"Product A units: {optimal_A}\")\n",
        "print(f\"Product B units: {optimal_B}\")\n",
        "print(f\"Maximum Profit: Rs {max_profit}\")\n"
      ]
    },
    {
      "cell_type": "code",
      "source": [
        "\n",
        "best_profit = 0\n",
        "best_wheat = 0\n",
        "best_barley = 0\n",
        "\n",
        "\n",
        "for wheat_hectares in range(111):\n",
        "    for barley_hectares in range(111):\n",
        "\n",
        "        if wheat_hectares + barley_hectares == 110 or \\\n",
        "           7000 * wheat_hectares + 2000 * barley_hectares == 700000 or \\\n",
        "           10 * wheat_hectares + 30 * barley_hectares == 1200:\n",
        "            if wheat_hectares + barley_hectares <= 110 and \\\n",
        "               7000 * wheat_hectares + 2000 * barley_hectares <= 700000 and \\\n",
        "               10 * wheat_hectares + 30 * barley_hectares <= 1200:\n",
        "\n",
        "                profit = 50 * wheat_hectares + 120 * barley_hectares\n",
        "\n",
        "                if profit > best_profit:\n",
        "                    best_profit = profit\n",
        "                    best_wheat = wheat_hectares\n",
        "                    best_barley = barley_hectares\n",
        "\n",
        "\n",
        "print(\"Brute-force solution:\")\n",
        "print(f\"Optimal hectares for Wheat: {best_wheat}\")\n",
        "print(f\"Optimal hectares for Barley: {best_barley}\")\n",
        "print(f\"Maximum profit: Rs {best_profit}\")\n",
        "\n",
        "\n",
        "from scipy.optimize import linprog\n",
        "import numpy as np\n",
        "\n",
        "\n",
        "objective_coefficients = [-50, -120]\n",
        "\n",
        "\n",
        "constraints = [\n",
        "    [1, 1],\n",
        "    [7000, 2000],\n",
        "    [10, 30]\n",
        "]\n",
        "constraint_bounds = [110, 700000, 1200]\n",
        "\n",
        "\n",
        "wheat_bounds = (0, None)\n",
        "barley_bounds = (0, None)\n",
        "variable_bounds = [wheat_bounds, barley_bounds]\n",
        "\n",
        "\n",
        "solution = linprog(\n",
        "    c=objective_coefficients,\n",
        "    A_ub=constraints,\n",
        "    b_ub=constraint_bounds,\n",
        "    bounds=variable_bounds,\n",
        "    method=\"highs\"\n",
        ")\n",
        "\n",
        "\n",
        "optimal_wheat, optimal_barley = solution.x\n",
        "optimal_profit = -solution.fun\n",
        "\n",
        "\n",
        "print(\"\\nLinear Programming solution:\")\n",
        "print(f\"Optimal hectares for Wheat: {np.round(optimal_wheat)}\")\n",
        "print(f\"Optimal hectares for Barley: {np.round(optimal_barley)}\")\n",
        "print(f\"Maximum profit: Rs {np.round(optimal_profit)}\")"
      ],
      "metadata": {
        "colab": {
          "base_uri": "https://localhost:8080/",
          "height": 0
        },
        "id": "pTKCJ54Scnov",
        "outputId": "6ee91762-3ce3-41db-c06c-99ca48003bb8"
      },
      "execution_count": 2,
      "outputs": [
        {
          "output_type": "stream",
          "name": "stdout",
          "text": [
            "Brute-force solution:\n",
            "Optimal hectares for Wheat: 96\n",
            "Optimal hectares for Barley: 8\n",
            "Maximum profit: Rs 5760\n",
            "\n",
            "Linear Programming solution:\n",
            "Optimal hectares for Wheat: 98.0\n",
            "Optimal hectares for Barley: 7.0\n",
            "Maximum profit: Rs 5779.0\n"
          ]
        }
      ]
    }
  ]
}